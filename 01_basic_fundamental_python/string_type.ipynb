{
 "cells": [
  {
   "cell_type": "markdown",
   "metadata": {},
   "source": [
    "# String    (' ')         (\" \")         (\"\"\" \"\"\")        (''' ''')        (f\"\")          "
   ]
  },
  {
   "cell_type": "code",
   "execution_count": null,
   "metadata": {},
   "outputs": [
    {
     "name": "stdout",
     "output_type": "stream",
     "text": [
      "\n",
      "Name : Usama jameel\n",
      "Father Name : Muhammad Jameel\n",
      "Age : 23\n",
      "Education : Intermadiate\n",
      "\n"
     ]
    }
   ],
   "source": [
    "# (f\"\") f string\n",
    "\n",
    "name : str = \"Usama jameel\"\n",
    "fname : str = \"Muhammad Jameel\"\n",
    "age : int = 23\n",
    "education : str = \"Intermadiate\"\n",
    "\n",
    "details = f\"\"\"\n",
    "Name : {name}\n",
    "Father Name : {fname}\n",
    "Age : {age}\n",
    "Education : {education}\n",
    "\"\"\"\n",
    "\n",
    "print(details)"
   ]
  },
  {
   "cell_type": "code",
   "execution_count": null,
   "metadata": {},
   "outputs": [
    {
     "name": "stdout",
     "output_type": "stream",
     "text": [
      "\n",
      "Name : Usama jameel\n",
      "Father Name : Muhammad Jameel\n",
      "Age : 23\n",
      "Education : Intermadiate\n",
      "\n"
     ]
    }
   ],
   "source": [
    "# .format method with variable \n",
    "\n",
    "name : str = \"Usama jameel\"\n",
    "fname : str = \"Muhammad Jameel\"\n",
    "age : int = 23\n",
    "education : str = \"Intermadiate\"\n",
    "\n",
    "details = \"\"\"\n",
    "Name : {a}\n",
    "Father Name : {b}\n",
    "Age : {c}\n",
    "Education : {d}\n",
    "\"\"\".format(a = name, b = fname , c = age , d = education )\n",
    "\n",
    "print(details)"
   ]
  },
  {
   "cell_type": "code",
   "execution_count": null,
   "metadata": {},
   "outputs": [
    {
     "name": "stdout",
     "output_type": "stream",
     "text": [
      "\n",
      "Name : Usama jameel\n",
      "Father Name : Muhammad Jameel\n",
      "Age : 23\n",
      "Education : Intermadiate\n",
      "\n"
     ]
    }
   ],
   "source": [
    "# .format method with indexing\n",
    "\n",
    "name : str = \"Usama jameel\"\n",
    "fname : str = \"Muhammad Jameel\"\n",
    "age : int = 23\n",
    "education : str = \"Intermadiate\"\n",
    "\n",
    "details = \"\"\"\n",
    "Name : {0}\n",
    "Father Name : {1}\n",
    "Age : {2}\n",
    "Education : {3}\n",
    "\"\"\".format(name ,fname,age,education )\n",
    "\n",
    "print(details)"
   ]
  },
  {
   "cell_type": "code",
   "execution_count": 2,
   "metadata": {},
   "outputs": [
    {
     "name": "stdout",
     "output_type": "stream",
     "text": [
      "\n",
      "Name : Usama jameel\n",
      "Father Name : Muhammad Jameel\n",
      "Age : 23\n",
      "Education : Intermadiate\n",
      "\n"
     ]
    }
   ],
   "source": [
    "# .f string\n",
    "\n",
    "name : str = \"Usama jameel\"\n",
    "fname : str = \"Muhammad Jameel\"\n",
    "age : int = 23\n",
    "education : str = \"Intermadiate\"\n",
    "\n",
    "details = f\"\"\"\n",
    "Name : %s\n",
    "Father Name : %s\n",
    "Age : %d\n",
    "Education : %s\n",
    "\"\"\" % (name, fname ,age , education )\n",
    "\n",
    "print(details)"
   ]
  },
  {
   "cell_type": "code",
   "execution_count": 3,
   "metadata": {},
   "outputs": [
    {
     "name": "stdout",
     "output_type": "stream",
     "text": [
      "Muhammad Usama Jameel\n",
      "16\n"
     ]
    }
   ],
   "source": [
    "student_code : str = \"\"\"\n",
    "print(\"Muhammad Usama Jameel\")\n",
    "a : int = 4\n",
    "b : int = 12\n",
    "print(a+b)\n",
    "\"\"\"\n",
    "exec(student_code)"
   ]
  },
  {
   "cell_type": "markdown",
   "metadata": {},
   "source": [
    "# Explore string method and attributes"
   ]
  },
  {
   "cell_type": "code",
   "execution_count": null,
   "metadata": {},
   "outputs": [
    {
     "name": "stdout",
     "output_type": "stream",
     "text": [
      "47\n",
      "<class 'list'>\n",
      "['capitalize', 'casefold', 'center', 'count', 'encode', 'endswith', 'expandtabs', 'find', 'format', 'format_map', 'index', 'isalnum', 'isalpha', 'isascii', 'isdecimal', 'isdigit', 'isidentifier', 'islower', 'isnumeric', 'isprintable', 'isspace', 'istitle', 'isupper', 'join', 'ljust', 'lower', 'lstrip', 'maketrans', 'partition', 'removeprefix', 'removesuffix', 'replace', 'rfind', 'rindex', 'rjust', 'rpartition', 'rsplit', 'rstrip', 'split', 'splitlines', 'startswith', 'strip', 'swapcase', 'title', 'translate', 'upper', 'zfill']\n"
     ]
    }
   ],
   "source": [
    "# strings method\n",
    "a :list[str] = [ i for i in dir(str) if \"__\" not in i ]\n",
    "print(len(a))\n",
    "print(type(a))\n",
    "print(a)"
   ]
  },
  {
   "cell_type": "code",
   "execution_count": null,
   "metadata": {},
   "outputs": [
    {
     "name": "stdout",
     "output_type": "stream",
     "text": [
      "11\n",
      "<class 'list'>\n",
      "['as_integer_ratio', 'bit_count', 'bit_length', 'conjugate', 'denominator', 'from_bytes', 'imag', 'is_integer', 'numerator', 'real', 'to_bytes']\n"
     ]
    }
   ],
   "source": [
    "# Intiger method\n",
    "a :list[int] = [ i for i in dir(int) if \"__\" not in i ]\n",
    "print(len(a))\n",
    "print(type(a))\n",
    "print(a)"
   ]
  },
  {
   "cell_type": "code",
   "execution_count": 7,
   "metadata": {},
   "outputs": [
    {
     "data": {
      "text/plain": [
       "'                 Usama           jameel              '"
      ]
     },
     "metadata": {},
     "output_type": "display_data"
    },
    {
     "data": {
      "text/plain": [
       "'Usama           jameel'"
      ]
     },
     "metadata": {},
     "output_type": "display_data"
    }
   ],
   "source": [
    "nam = \"                 Usama           jameel              \"\n",
    "display(nam)\n",
    "change = nam.strip()\n",
    "display(change)"
   ]
  },
  {
   "cell_type": "code",
   "execution_count": 8,
   "metadata": {},
   "outputs": [
    {
     "data": {
      "text/plain": [
       "'                 Usama           jameel              '"
      ]
     },
     "metadata": {},
     "output_type": "display_data"
    },
    {
     "data": {
      "text/plain": [
       "'Usama           jameel'"
      ]
     },
     "metadata": {},
     "output_type": "display_data"
    }
   ],
   "source": [
    "nam = \"                 Usama           jameel              \"\n",
    "display(nam)\n",
    "change = nam.lstrip().rstrip()\n",
    "display(change)"
   ]
  },
  {
   "cell_type": "code",
   "execution_count": 17,
   "metadata": {},
   "outputs": [
    {
     "data": {
      "text/plain": [
       "'                 Usama           jameel              '"
      ]
     },
     "metadata": {},
     "output_type": "display_data"
    },
    {
     "data": {
      "text/plain": [
       "'Usama           jameel'"
      ]
     },
     "metadata": {},
     "output_type": "display_data"
    }
   ],
   "source": [
    "import re\n",
    "\n",
    "nam : str = \"                 Usama           jameel              \"\n",
    "display(nam)\n",
    "change : str = re.sub('{ 2,100}',' ', nam).strip()\n",
    "display(change)"
   ]
  }
 ],
 "metadata": {
  "kernelspec": {
   "display_name": "py12",
   "language": "python",
   "name": "python3"
  },
  "language_info": {
   "codemirror_mode": {
    "name": "ipython",
    "version": 3
   },
   "file_extension": ".py",
   "mimetype": "text/x-python",
   "name": "python",
   "nbconvert_exporter": "python",
   "pygments_lexer": "ipython3",
   "version": "3.12.0"
  }
 },
 "nbformat": 4,
 "nbformat_minor": 2
}
