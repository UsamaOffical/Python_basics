{
 "cells": [
  {
   "cell_type": "code",
   "execution_count": 6,
   "metadata": {},
   "outputs": [
    {
     "name": "stdout",
     "output_type": "stream",
     "text": [
      "array value before changes[1, 2, 3, 4, 5] and id is 132367370638848\n",
      "array value before changes[1, 2, 3, 4, 5, 6] and id is 132367370638848\n",
      "array value before changes[1, 2, 3, 4, 5, 6] and id is 132367370638848\n"
     ]
    }
   ],
   "source": [
    "array:list[int] = [1, 2, 3, 4, 5]\n",
    "\n",
    "def imutable_array(nums:list[int]) -> list[int]:\n",
    "    print(f'array value before changes{nums} and id is {id(nums)}')\n",
    "    nums.append(6)\n",
    "    print(f'array value before changes{nums} and id is {id(nums)}')\n",
    "    \n",
    "imutable_array(array)\n",
    "  \n",
    "print(f'array value before changes{array} and id is {id(array)}')"
   ]
  },
  {
   "cell_type": "code",
   "execution_count": null,
   "metadata": {},
   "outputs": [
    {
     "name": "stdout",
     "output_type": "stream",
     "text": [
      "7 id is 9802792\n",
      "4 id is 9802696\n"
     ]
    }
   ],
   "source": [
    "a:int = 7\n",
    "b:int = a\n",
    "b = 4\n",
    "\n",
    "\n",
    "print(f'{a} id is {id(a)}')\n",
    "print(f'{b} id is {id(b)}')"
   ]
  },
  {
   "cell_type": "code",
   "execution_count": 11,
   "metadata": {},
   "outputs": [
    {
     "name": "stdout",
     "output_type": "stream",
     "text": [
      "[1, 3, 56, 1222] id is 132367370165952\n",
      "[1, 3, 56, 1222] id is 132367370165952\n"
     ]
    }
   ],
   "source": [
    "lis :list[int]=[1,3,56,7]\n",
    "sec_lis = lis\n",
    "\n",
    "sec_lis[3] = 1222\n",
    "\n",
    "print(f'{lis} id is {id(lis)}')\n",
    "print(f'{sec_lis} id is {id(sec_lis)}')"
   ]
  },
  {
   "cell_type": "code",
   "execution_count": 17,
   "metadata": {},
   "outputs": [
    {
     "name": "stdout",
     "output_type": "stream",
     "text": [
      "num value is 4 id is 9802696\n",
      "num value is 5 id is 9802728\n"
     ]
    }
   ],
   "source": [
    "u:int = 4\n",
    "\n",
    "def check_id(num:int)->None:\n",
    "\n",
    "    print(f'num value is {num} id is {id(num)}')\n",
    "    num = 5\n",
    "    print(f'num value is {num} id is {id(num)}')\n",
    "    \n",
    "check_id(u)"
   ]
  },
  {
   "cell_type": "code",
   "execution_count": 20,
   "metadata": {},
   "outputs": [
    {
     "name": "stdout",
     "output_type": "stream",
     "text": [
      "132367370474560\n",
      "id of num_1 before changes 132367370474560\n",
      "id of num_1 132367349215232\n",
      "num_1 [4, 233] 132367349215232\n",
      "numbers [1, 23, 45, 6] 132367370474560\n"
     ]
    }
   ],
   "source": [
    "numbers = [1,23,45,6]\n",
    "print(id(numbers))\n",
    "\n",
    "def check_num(num_1):\n",
    "    print(f'id of num_1 before changes {id(num_1)}')\n",
    "    num_1 = [4]\n",
    "    print(f'id of num_1 {id(num_1)}')\n",
    "    num_1.append(233)\n",
    "    print(f'num_1 {num_1} {id(num_1)}' )\n",
    "    print(f'numbers {numbers} {id(numbers)}')\n",
    "\n",
    "check_num(numbers)"
   ]
  }
 ],
 "metadata": {
  "kernelspec": {
   "display_name": "py12",
   "language": "python",
   "name": "python3"
  },
  "language_info": {
   "codemirror_mode": {
    "name": "ipython",
    "version": 3
   },
   "file_extension": ".py",
   "mimetype": "text/x-python",
   "name": "python",
   "nbconvert_exporter": "python",
   "pygments_lexer": "ipython3",
   "version": "3.12.0"
  }
 },
 "nbformat": 4,
 "nbformat_minor": 2
}
